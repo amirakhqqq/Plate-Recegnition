{
 "cells": [
  {
   "cell_type": "code",
   "execution_count": 1,
   "id": "63fe514b",
   "metadata": {},
   "outputs": [
    {
     "name": "stderr",
     "output_type": "stream",
     "text": [
      "C:\\Users\\amira\\anaconda3\\lib\\site-packages\\torchvision\\io\\image.py:13: UserWarning: Failed to load image Python extension: [WinError 127] The specified procedure could not be found\n",
      "  warn(f\"Failed to load image Python extension: {e}\")\n"
     ]
    }
   ],
   "source": [
    "from PIL import Image, ImageDraw, ImageOps \n",
    "import matplotlib.pyplot as plt\n",
    "import numpy as np\n",
    "import cv2\n",
    "import torch\n",
    "import torchvision.transforms as T\n",
    "from tqdm import tqdm\n",
    "import random \n",
    "import os\n",
    "from os import listdir\n",
    "import json  \n"
   ]
  },
  {
   "cell_type": "code",
   "execution_count": 2,
   "id": "14eafa6f",
   "metadata": {},
   "outputs": [],
   "source": [
    "# I define the width and height of images, since height and width is different for each image, we need to predefine the desired shape\n",
    "H, W = 224, 224\n",
    "n_sample =  5000\n",
    "plate_H = 128\n",
    "plate_W = 32"
   ]
  },
  {
   "cell_type": "code",
   "execution_count": 3,
   "id": "d16ef339",
   "metadata": {},
   "outputs": [],
   "source": [
    "\n",
    "# compose is a combination of random transforms to augment data. This transformations are Perspective, scaling, rotation, and shear.\n",
    "composed = T.Compose([\n",
    "    T.Resize(size= (plate_W, plate_H )),\n",
    "     T.Pad(padding=((H - plate_H)//2, (W - plate_W)//2)),\n",
    "     T.RandomPerspective(distortion_scale=0.4, p=0.5),\n",
    "     T.RandomAffine(degrees=(-20, 20), translate=(0.3, 0.3), scale=(0.5, 0.8),  shear =(-20,20,-20,20) ) \n",
    " ])\n",
    "\n",
    "def find_corners(img, eps=1e-3):\n",
    "    \"\"\"\n",
    "    Given the transformed plate image, identify the four corners of the plate\n",
    "    \"\"\"\n",
    "    img = cv2.cvtColor(img,cv2.COLOR_BGR2GRAY)\n",
    "    _,thresh = cv2.threshold(img,1,255,0)\n",
    "    orignal_thresh = thresh.copy()\n",
    "    thresh = cv2.medianBlur(thresh,3)\n",
    "    thresh= cv2.blur(thresh, (5,5))\n",
    "    \n",
    "    corners = cv2.goodFeaturesToTrack(thresh, 4, eps, 2, 5)\n",
    "    corners = np.int0(corners)\n",
    "    \n",
    "    return corners, orignal_thresh\n",
    "\n",
    "def mix_images(plate, back_ground , thresh):\n",
    "    \"\"\"\n",
    "    Given the background image and thr plate , adding the two images together\n",
    "    \"\"\"\n",
    "    back_ground = T.Resize(size=(W, H))(back_ground)\n",
    "    back_ground = np.asarray(back_ground)\n",
    "    \n",
    "    thresh = cv2.bitwise_not(thresh)\n",
    "    thresh[thresh>0]=1\n",
    "    thresh = np.array([thresh,thresh,thresh]).transpose(1,2,0)\n",
    "    \n",
    "    mixed_image = back_ground  * thresh + plate\n",
    "    return T.ToPILImage()(mixed_image)\n",
    "\n",
    "    \n",
    "    "
   ]
  },
  {
   "cell_type": "code",
   "execution_count": 4,
   "id": "7935cbfb",
   "metadata": {},
   "outputs": [],
   "source": [
    "#Loading backgrounds and plates \n",
    "Back_grounds=[]\n",
    "Plate_imgs=[]\n",
    "\n",
    "back_ground_folder_dir = \"backgrounds\"\n",
    "for images in os.listdir(back_ground_folder_dir):\n",
    "    back_ground = Image.open('backgrounds/'+images)\n",
    "    Back_grounds.append(back_ground)\n",
    "\n",
    "    \n",
    "plate_folder_dir = \"plates\" \n",
    "for images in os.listdir(plate_folder_dir):\n",
    "    plate_img = Image.open('plates/'+images)\n",
    "    Plate_imgs.append(plate_img)    "
   ]
  },
  {
   "cell_type": "code",
   "execution_count": 5,
   "id": "21c63ddf",
   "metadata": {},
   "outputs": [
    {
     "name": "stderr",
     "output_type": "stream",
     "text": [
      "100%|██████████| 5000/5000 [00:43<00:00, 114.39it/s]\n"
     ]
    }
   ],
   "source": [
    "# Generating n_samples = 5000 training samples\n",
    "\n",
    "corner_cordinates = {}   \n",
    "for i in tqdm(range(n_sample)):\n",
    "    back_ground = Back_grounds[random.randint(0,29)]\n",
    "    plate_choice = random.randint(0,99)\n",
    "    plate_img = Plate_imgs[plate_choice]\n",
    "\n",
    "    sample = np.asarray(plate_img)\n",
    "    sample = cv2.add(sample,10)\n",
    "\n",
    "    plate_img = T.ToPILImage()(sample)\n",
    "    img = composed(plate_img)\n",
    "    img = np.asarray(img)\n",
    "\n",
    "    corners, thresh= find_corners(img)\n",
    "    img = mix_images(img, back_ground,thresh)\n",
    "    if (len(corners) == 4):\n",
    "        img.save('data/' + str(i) + '.jpg')\n",
    "        corner_cordinates[str(i)] = corners.tolist()\n",
    "\n",
    "save_file = open(\"coordinates.json\", \"w\")  \n",
    "json.dump(corner_cordinates, save_file)  \n",
    "save_file.close()  "
   ]
  },
  {
   "cell_type": "code",
   "execution_count": null,
   "id": "144658d5",
   "metadata": {},
   "outputs": [],
   "source": []
  }
 ],
 "metadata": {
  "kernelspec": {
   "display_name": "Python 3 (ipykernel)",
   "language": "python",
   "name": "python3"
  },
  "language_info": {
   "codemirror_mode": {
    "name": "ipython",
    "version": 3
   },
   "file_extension": ".py",
   "mimetype": "text/x-python",
   "name": "python",
   "nbconvert_exporter": "python",
   "pygments_lexer": "ipython3",
   "version": "3.9.16"
  }
 },
 "nbformat": 4,
 "nbformat_minor": 5
}
